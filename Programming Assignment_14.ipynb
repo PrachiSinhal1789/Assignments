{
 "cells": [
  {
   "cell_type": "code",
   "execution_count": 13,
   "id": "753bbff7",
   "metadata": {},
   "outputs": [],
   "source": [
    "#Question 1:Define a class with a generator which can iterate the numbers, which are divisible by 7, between a given range 0 and n.\n",
    "\n",
    "class div7:\n",
    "    @staticmethod\n",
    "    def func(n):\n",
    "        for i in range(n):\n",
    "            if i%7==0:\n",
    "                yield i"
   ]
  },
  {
   "cell_type": "code",
   "execution_count": 15,
   "id": "eddbcaa6",
   "metadata": {},
   "outputs": [
    {
     "name": "stdout",
     "output_type": "stream",
     "text": [
      "enter range:78\n",
      "0\n",
      "7\n",
      "14\n",
      "21\n",
      "28\n",
      "35\n",
      "42\n",
      "49\n",
      "56\n",
      "63\n",
      "70\n",
      "77\n"
     ]
    }
   ],
   "source": [
    "n=int(input('enter range:'))\n",
    "obj=div7()\n",
    "for i in obj.func(n):\n",
    "    print(i)"
   ]
  },
  {
   "cell_type": "markdown",
   "id": "7bdf9ada",
   "metadata": {},
   "source": [
    "Question 2:\n",
    "Write a program to compute the frequency of the words from the input. The output should output after sorting the key alphanumerically. \n",
    "Suppose the following input is supplied to the program:\n",
    "New to Python or choosing between Python 2 and Python 3? Read Python 2 or Python 3.\n",
    "\n",
    "Then, the output should be:\n",
    "\n",
    "2:2\n",
    "\n",
    "3.:1\n",
    "\n",
    "3?:1\n",
    "\n",
    "New:1\n",
    "\n",
    "Python:5\n",
    "\n",
    "Read:1\n",
    "\n",
    "and:1\n",
    "\n",
    "between:1\n",
    "\n",
    "choosing:1\n",
    "\n",
    "or:2\n",
    "\n",
    "to:1"
   ]
  },
  {
   "cell_type": "code",
   "execution_count": 17,
   "id": "c8ffe7a7",
   "metadata": {},
   "outputs": [
    {
     "name": "stdout",
     "output_type": "stream",
     "text": [
      "{'2': 2, '3.': 1, '3?': 1, 'New': 1, 'Python': 5, 'Read': 1, 'and': 1, 'between': 1, 'choosing': 1, 'or': 2, 'to': 1}\n"
     ]
    }
   ],
   "source": [
    "s='New to Python or choosing between Python 2 and Python 3? Read Python 2 or Python 3.'\n",
    "w=s.split()\n",
    "w.sort()\n",
    "d={}\n",
    "for i in w:\n",
    "    if i not in d.keys():\n",
    "        c=w.count(i)\n",
    "        d[i]=c\n",
    "print(d)"
   ]
  },
  {
   "cell_type": "markdown",
   "id": "ef3f4461",
   "metadata": {},
   "source": [
    "Question 3:\n",
    "Define a class Person and its two child classes: Male and Female. All classes have a method \"getGender\" which can print \"Male\" for Male class and \"Female\" for Female class."
   ]
  },
  {
   "cell_type": "code",
   "execution_count": 27,
   "id": "3d7ec584",
   "metadata": {},
   "outputs": [],
   "source": [
    "class Person:\n",
    "    def getGender(self):\n",
    "        pass\n",
    "class Male(Person):\n",
    "     def getGender(self):\n",
    "            return 'Male'\n",
    "            \n",
    "class Female(Person):\n",
    "     def getGender(self):\n",
    "            return 'Female'"
   ]
  },
  {
   "cell_type": "code",
   "execution_count": 28,
   "id": "118adff0",
   "metadata": {},
   "outputs": [
    {
     "data": {
      "text/plain": [
       "'Male'"
      ]
     },
     "execution_count": 28,
     "metadata": {},
     "output_type": "execute_result"
    }
   ],
   "source": [
    "obj1=Male()\n",
    "obj1.getGender()"
   ]
  },
  {
   "cell_type": "code",
   "execution_count": 29,
   "id": "b9a2cd2b",
   "metadata": {},
   "outputs": [
    {
     "data": {
      "text/plain": [
       "'Female'"
      ]
     },
     "execution_count": 29,
     "metadata": {},
     "output_type": "execute_result"
    }
   ],
   "source": [
    "obj2=Female()\n",
    "obj2.getGender()"
   ]
  },
  {
   "cell_type": "markdown",
   "id": "427fd0ef",
   "metadata": {},
   "source": [
    "Question 4:\n",
    "Please write a program to generate all sentences where subject is in [\"I\", \"You\"] and verb is in [\"Play\", \"Love\"] and the object is in [\"Hockey\",\"Football\"]."
   ]
  },
  {
   "cell_type": "code",
   "execution_count": 30,
   "id": "270dd495",
   "metadata": {},
   "outputs": [
    {
     "name": "stdout",
     "output_type": "stream",
     "text": [
      "I Play Hockey\n",
      "I Play Football\n",
      "I Love Hockey\n",
      "I Love Football\n",
      "You Play Hockey\n",
      "You Play Football\n",
      "You Love Hockey\n",
      "You Love Football\n"
     ]
    }
   ],
   "source": [
    "s=[\"I\", \"You\"]\n",
    "v=[\"Play\", \"Love\"]\n",
    "o=[\"Hockey\",\"Football\"]\n",
    "for i in s:\n",
    "    for j in v:\n",
    "        for k in o:\n",
    "            print(i+\" \"+j+\" \"+k)"
   ]
  },
  {
   "cell_type": "code",
   "execution_count": 41,
   "id": "0a5f3cca",
   "metadata": {},
   "outputs": [
    {
     "name": "stdout",
     "output_type": "stream",
     "text": [
      "b'\\x1f\\x8b\\x08\\x00\\x1b\\xf8~c\\x02\\xff\\xcbH\\xcd\\xc9\\xc9W(\\xcf/\\xcaIQ\\xcc \\x82\\r\\x00\\xd3\\xe6\\xcf\\xae0\\x00\\x00\\x00'\n",
      "b'hello world!hello world!hello world!hello world!'\n"
     ]
    }
   ],
   "source": [
    "#Question 5:Please write a program to compress and decompress the string \"hello world!hello world!hello world!hello world!\".\n",
    "\n",
    "import gzip\n",
    "s=b'hello world!hello world!hello world!hello world!'\n",
    "t=gzip.compress(s)\n",
    "print(t)\n",
    "print(gzip.decompress(t))\n"
   ]
  },
  {
   "cell_type": "code",
   "execution_count": 48,
   "id": "d19c8498",
   "metadata": {},
   "outputs": [],
   "source": [
    "#Question 6:Please write a binary search function which searches an item in a sorted list. The function should return the index of element to be searched in the list.\n",
    "\n",
    "def b_search(data,item):\n",
    "    l=len(data)\n",
    "    right=l-1\n",
    "    left=0\n",
    "    mid=0\n",
    "    while right>left:\n",
    "        mid=(right+left)//2\n",
    "        if item>data[mid]:\n",
    "            left=mid+1\n",
    "        else:\n",
    "            right=mid-1\n",
    "    \n",
    "    if item==data[left]:\n",
    "        print('Item found at index',left)\n",
    "    elif item==data[right]:\n",
    "        print('Item found at index',right)\n",
    "    else:\n",
    "        print('Item not found')    "
   ]
  },
  {
   "cell_type": "code",
   "execution_count": 50,
   "id": "0157a109",
   "metadata": {},
   "outputs": [
    {
     "name": "stdout",
     "output_type": "stream",
     "text": [
      "Item found at index 6\n"
     ]
    }
   ],
   "source": [
    "b_search([10, 20, 30, 50, 60, 80, 110, 130, 140, 170],110)"
   ]
  },
  {
   "cell_type": "code",
   "execution_count": null,
   "id": "5cf91177",
   "metadata": {},
   "outputs": [],
   "source": []
  }
 ],
 "metadata": {
  "kernelspec": {
   "display_name": "Python 3 (ipykernel)",
   "language": "python",
   "name": "python3"
  },
  "language_info": {
   "codemirror_mode": {
    "name": "ipython",
    "version": 3
   },
   "file_extension": ".py",
   "mimetype": "text/x-python",
   "name": "python",
   "nbconvert_exporter": "python",
   "pygments_lexer": "ipython3",
   "version": "3.9.12"
  }
 },
 "nbformat": 4,
 "nbformat_minor": 5
}
