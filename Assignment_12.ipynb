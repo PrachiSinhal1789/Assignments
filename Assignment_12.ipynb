{
 "cells": [
  {
   "cell_type": "markdown",
   "id": "87077313",
   "metadata": {},
   "source": [
    "1. In what modes should the PdfFileReader() and PdfFileWriter() File objects will be opened?\n",
    "2. From a PdfFileReader object, how do you get a Page object for page 5?\n",
    "3. What PdfFileReader variable stores the number of pages in the PDF document?\n",
    "4. If a PdfFileReader object’s PDF is encrypted with the password swordfish, what must you do before you can obtain Page objects from it?\n",
    "5. What methods do you use to rotate a page?\n",
    "6. What is the difference between a Run object and a Paragraph object?\n",
    "7. How do you obtain a list of Paragraph objects for a Document object that’s stored in a variable named doc?\n",
    "8. What type of object has bold, underline, italic, strike, and outline variables?\n",
    "9. What is the difference between False, True, and None for the bold variable?\n",
    "10. How do you create a Document object for a new Word document?\n",
    "11. How do you add a paragraph with the text 'Hello, there!' to a Document object stored in a variable named doc?\n",
    "12. What integers represent the levels of headings available in Word documents?\n"
   ]
  },
  {
   "cell_type": "code",
   "execution_count": 1,
   "id": "7e228223",
   "metadata": {},
   "outputs": [],
   "source": [
    "#Ans1.These files will be opened in binary mode., read binary (rb) for PdfFileREader() and write binary (wb) PdfFileWriter()"
   ]
  },
  {
   "cell_type": "code",
   "execution_count": 2,
   "id": "83f05698",
   "metadata": {},
   "outputs": [
    {
     "name": "stdout",
     "output_type": "stream",
     "text": [
      "Collecting PyPDF2\n",
      "  Downloading pypdf2-3.0.0-py3-none-any.whl (232 kB)\n",
      "Requirement already satisfied: typing_extensions>=3.10.0.0 in c:\\users\\dell\\anaconda3\\lib\\site-packages (from PyPDF2) (4.1.1)\n",
      "Installing collected packages: PyPDF2\n",
      "Successfully installed PyPDF2-3.0.0\n"
     ]
    }
   ],
   "source": [
    "#Ans2.\n",
    "!pip install PyPDF2"
   ]
  },
  {
   "cell_type": "code",
   "execution_count": 9,
   "id": "16246586",
   "metadata": {},
   "outputs": [
    {
     "data": {
      "text/plain": [
       "'P R E F A C E\\nWhy a new book ?\\nExcellent books exist on physics at an introductory college level so why a new one ? Why so many books\\nexist at the same level, in the first place, and why each of them is highly appreciated ? It is because each of\\nthese books has the privilege of having an author or authors who have experienced  physics and have their own\\nmethod of communicating with the students. During my years as a physics teacher, I have developed a somewhatdifferent methodology of presenting physics to the students. Concepts of Physics is a translation of this\\nmethodology into a textbook.\\nPrerequisites\\nThe book presents a calculus-based physics course which makes free use of algebra, trigonometry and\\nco-ordinate geometry. The level of the latter three topics is quite simple and high school mathematics is sufficient.Calculus is generally done at the introductory college level and I have assumed that the student is enrolled ina concurrent first calculus course. The relevant portions of calculus have been discussed in Chapter 2 so thatthe student may start using it from the beginning.\\nAlmost no knowledge of physics is a prerequisite. I have attempted to start each topic from the zero level.\\nA receptive mind is all that is needed to use this book.\\nBasic philosophy of the book\\nThe motto underlying the book is physics is enjoyable.\\nBeing a description of the nature around us, physics is our best friend from the day of our existence. I have\\nextensively used this aspect of physics to introduce the physical principles starting with common day occurrencesand examples. The subject then appears to be friendly and enjoyable. I have taken care that numerical valuesof different quantities used in problems correspond to real situations to further strengthen this approach.\\nTeaching and training\\nThe basic aim of physics teaching has been to let the student know and understand the principles and\\nequations of physics and their applications in real life.\\nHowever, to be able to use these principles and equations correctly in a given physical situation, one needs\\nfurther training. A large number of questions and solved and unsolved problems  are given for this purpose. Each\\nquestion or problem has a specific purpose. It may be there to bring out a subtle point which might have passedunnoticed while doing the text portion. It may be a further elaboration of a concept developed in the text. Itmay be there to make the student react when several concepts introduced in different chapters combine andshow up as a physical situation and so on. Such tools have been used to develop a culture: analyse the situation,\\nmake a strategy to invoke correct principles and work it out.\\nConventions\\nI have tried to use symbols, names, etc., which are popular nowadays. SI units have been consistently used\\nthroughout the book. SI prefixes such as micro, milli, mega, etc., are used whenever they make the presentation\\nmore readable. Thus, 20 µF is preferred over 20 × 10 − 6 F. Co-ordinate sign convention is used in geometrical\\noptics. Special emphasis has been given to dimensions of physical quantities. Numerical values of physicalquantities have been mentioned with the units even in equations to maintain dimensional consistency.\\nI have tried my best to keep errors out of this book. I shall be grateful to the readers who point out any\\nerrors and/or make other constructive suggestions.\\nH\\n C  V e r m a'"
      ]
     },
     "execution_count": 9,
     "metadata": {},
     "output_type": "execute_result"
    }
   ],
   "source": [
    "import PyPDF2 as pdf\n",
    "pdfFileObj = open(\"Concept of Physics HC Verma.pdf\",'rb')\n",
    "pdfReader = pdf.PdfReader(pdfFileObj)\n",
    "pageObj = pdfReader.pages[4]\n",
    "pageObj.extract_text()\n",
    "#Calling getPage(4) will return a Page object for page 5 since page 0 is the first page"
   ]
  },
  {
   "cell_type": "code",
   "execution_count": 11,
   "id": "55f56456",
   "metadata": {},
   "outputs": [
    {
     "data": {
      "text/plain": [
       "472"
      ]
     },
     "execution_count": 11,
     "metadata": {},
     "output_type": "execute_result"
    }
   ],
   "source": [
    "#Ans3.\n",
    "len(pdfReader.pages)"
   ]
  },
  {
   "cell_type": "markdown",
   "id": "1598c385",
   "metadata": {},
   "source": [
    "#Ans4.\n",
    "Before we obtain the page object, the pdf has to be decrypted by calling .decrypt('swordfish')"
   ]
  },
  {
   "cell_type": "markdown",
   "id": "4e838769",
   "metadata": {},
   "source": [
    "Ans5.\n",
    "pageObj.rotateClockwise(180)\n",
    "\n",
    "The rotateClockwise() and rotateCounterClockwise() methods. The degrees to rotate is passed as an integer argument"
   ]
  },
  {
   "cell_type": "markdown",
   "id": "1b8c4d52",
   "metadata": {},
   "source": [
    "Ans6.\n",
    "Paragraph Object : A document contains multiple paragraphs. A paragraph begins on a new line and contains multiple\n",
    "runs. The Document object contains a list of Paragraph objects for the paragraphs in the document. \n",
    "(A new paragraph begins whenever the user presses ENTER or RETURN while typing in a Word document.)\n",
    "\n",
    "Run Objects : Runs are contiguous groups of characters within a paragraph with the same style"
   ]
  },
  {
   "cell_type": "code",
   "execution_count": 15,
   "id": "a0b2c8f6",
   "metadata": {},
   "outputs": [
    {
     "name": "stdout",
     "output_type": "stream",
     "text": [
      "Requirement already satisfied: python-docx in c:\\users\\dell\\anaconda3\\lib\\site-packages (0.8.11)\n",
      "Requirement already satisfied: lxml>=2.3.2 in c:\\users\\dell\\anaconda3\\lib\\site-packages (from python-docx) (4.8.0)\n"
     ]
    }
   ],
   "source": [
    "#Ans7.\n",
    "!pip install python-docx\n",
    "import docx\n",
    "#doc.paragraphs\n",
    "#By using doc.paragraphs"
   ]
  },
  {
   "cell_type": "markdown",
   "id": "afd1be6b",
   "metadata": {},
   "source": [
    "#Ans8.\n",
    "A Run object has bold, underline,italic,strike and outline variables"
   ]
  },
  {
   "cell_type": "markdown",
   "id": "a3528506",
   "metadata": {},
   "source": [
    "Ans9.\n",
    "Runs can be further styled using text attributes. Each attribute can be set to one of three values:\n",
    "True (the attribute is always enabled, no matter what other styles are applied to the run),\n",
    "False (the attribute is always disabled),\n",
    "None (defaults to whatever the run’s style is set to)\n",
    "\n",
    "True always makes the Run object bolded and False makes it always not bolded, no matter what the style’s bold setting is.\n",
    "None will make the Run object just use the style’s bold setting"
   ]
  },
  {
   "cell_type": "markdown",
   "id": "387d78f6",
   "metadata": {},
   "source": [
    "Ans10.\n",
    "By Calling the docx.Document() function."
   ]
  },
  {
   "cell_type": "markdown",
   "id": "5f08adf6",
   "metadata": {},
   "source": [
    "Ans11.\n",
    "import docx\n",
    "doc = docx.Document()\n",
    "\n",
    "doc.add_paragraph('Hello there!')\n",
    "doc.save('hellothere.docx')"
   ]
  },
  {
   "cell_type": "markdown",
   "id": "59842e92",
   "metadata": {},
   "source": [
    "Ans12.\n",
    "integer from 0 to 4\n",
    "The arguments to add_heading() are a string of the heading text and an integer from 0 to 4. \n",
    "The integer 0 makes the heading the Title style, which is used for the top of the document. \n",
    "Integers 1 to 4 are for various heading levels, with 1 being the main heading and 4 the lowest subheading"
   ]
  }
 ],
 "metadata": {
  "kernelspec": {
   "display_name": "Python 3 (ipykernel)",
   "language": "python",
   "name": "python3"
  },
  "language_info": {
   "codemirror_mode": {
    "name": "ipython",
    "version": 3
   },
   "file_extension": ".py",
   "mimetype": "text/x-python",
   "name": "python",
   "nbconvert_exporter": "python",
   "pygments_lexer": "ipython3",
   "version": "3.9.12"
  }
 },
 "nbformat": 4,
 "nbformat_minor": 5
}
