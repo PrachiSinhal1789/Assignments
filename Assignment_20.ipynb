{
 "cells": [
  {
   "cell_type": "code",
   "execution_count": 1,
   "id": "20f9ba09",
   "metadata": {},
   "outputs": [],
   "source": [
    "#1. Set the variable test1 to the string 'This is a test of the emergency text system,' and save test1 to a file named test.txt.\n",
    "test1='This is a test of the emergency text system'\n",
    "with open('test.txt','w+') as f:\n",
    "    f.write(test1)"
   ]
  },
  {
   "cell_type": "code",
   "execution_count": 2,
   "id": "e7126781",
   "metadata": {},
   "outputs": [],
   "source": [
    "#2. Read the contents of the file test.txt into the variable test2. Is there a difference between test 1 and test 2?\n",
    "with open('test.txt','r') as f:\n",
    "    test2=f.read()"
   ]
  },
  {
   "cell_type": "markdown",
   "id": "8dbfdd40",
   "metadata": {},
   "source": [
    "#3. Create a CSV file called books.csv by using these lines:\n",
    "title,author,year\n",
    "The Weirdstone of Brisingamen,Alan Garner,1960\n",
    "Perdido Street Station,China Miéville,2000\n",
    "Thud!,Terry Pratchett,2005\n",
    "The Spellman Files,Lisa Lutz,2007\n",
    "Small Gods,Terry Pratchett,1992"
   ]
  },
  {
   "cell_type": "code",
   "execution_count": 3,
   "id": "bb555490",
   "metadata": {},
   "outputs": [],
   "source": [
    "import csv\n",
    "s=[[\"title,author,year\"],\n",
    "[\"The Weirdstone of Brisingamen,Alan Garner,1960\"],\n",
    "[\"Perdido Street Station,China Miéville,2000\"],\n",
    "[\"Thud!,Terry Pratchett,2005\"],\n",
    "[\"The Spellman Files,Lisa Lutz,2007\"],\n",
    "[\"Small Gods,Terry Pratchett,1992\"]]\n",
    "\n",
    "with open('books.csv','w+',encoding='UTF8',newline='') as f:\n",
    "    writer=csv.writer(f)\n",
    "    writer.writerows(s)"
   ]
  },
  {
   "cell_type": "markdown",
   "id": "38090580",
   "metadata": {},
   "source": [
    "4. Use the sqlite3 module to create a SQLite database called books.db, and a table called books with these fields: title (text), author (text), and year (integer)."
   ]
  },
  {
   "cell_type": "code",
   "execution_count": 1,
   "id": "a4ef304d",
   "metadata": {},
   "outputs": [
    {
     "data": {
      "text/plain": [
       "<sqlite3.Cursor at 0x2310592e2d0>"
      ]
     },
     "execution_count": 1,
     "metadata": {},
     "output_type": "execute_result"
    }
   ],
   "source": [
    "import sqlite3\n",
    "db=sqlite3.connect('books.db')\n",
    "cursor=db.cursor()\n",
    "cursor.execute('''create table books(title varchar,author varchar,year int);''')"
   ]
  },
  {
   "cell_type": "markdown",
   "id": "fb12e5bb",
   "metadata": {},
   "source": [
    "5. Read books.csv and insert its data into the book table."
   ]
  },
  {
   "cell_type": "code",
   "execution_count": 2,
   "id": "c154da92",
   "metadata": {},
   "outputs": [
    {
     "name": "stdout",
     "output_type": "stream",
     "text": [
      "[('title', 'author', 'year'), ('The Weirdstone of Brisingamen', 'Alan Garner', '1960'), ('Perdido Street Station', 'China MiÃ©ville', '2000'), ('Thud!', 'Terry Pratchett', '2005'), ('The Spellman Files', 'Lisa Lutz', '2007'), ('Small Gods', 'Terry Pratchett', '1992')]\n"
     ]
    }
   ],
   "source": [
    "import csv\n",
    "file=open('books.csv','r')\n",
    "data=csv.reader(file)\n",
    "l=[]\n",
    "for lines in data:\n",
    "    l.append(tuple(lines[0].split(',')))\n",
    "print(l)"
   ]
  },
  {
   "cell_type": "code",
   "execution_count": 3,
   "id": "13817810",
   "metadata": {},
   "outputs": [
    {
     "name": "stdout",
     "output_type": "stream",
     "text": [
      "('The Weirdstone of Brisingamen', 'Alan Garner', 1960)\n",
      "('Perdido Street Station', 'China MiÃ©ville', 2000)\n",
      "('Thud!', 'Terry Pratchett', 2005)\n",
      "('The Spellman Files', 'Lisa Lutz', 2007)\n",
      "('Small Gods', 'Terry Pratchett', 1992)\n"
     ]
    }
   ],
   "source": [
    "sql='''insert into books values(?,?,?);'''\n",
    "cursor.executemany(sql,l[1:])\n",
    "d=cursor.execute('''SELECT * FROM books''')\n",
    "for row in d:\n",
    "    print(row)\n",
    "db.commit()\n",
    "#db.close()"
   ]
  },
  {
   "cell_type": "code",
   "execution_count": 4,
   "id": "bd748e19",
   "metadata": {},
   "outputs": [],
   "source": [
    "import pandas as pd\n",
    "df = pd.read_sql_query(\"SELECT * from books\", db)"
   ]
  },
  {
   "cell_type": "code",
   "execution_count": 5,
   "id": "380854a8",
   "metadata": {},
   "outputs": [
    {
     "data": {
      "text/html": [
       "<div>\n",
       "<style scoped>\n",
       "    .dataframe tbody tr th:only-of-type {\n",
       "        vertical-align: middle;\n",
       "    }\n",
       "\n",
       "    .dataframe tbody tr th {\n",
       "        vertical-align: top;\n",
       "    }\n",
       "\n",
       "    .dataframe thead th {\n",
       "        text-align: right;\n",
       "    }\n",
       "</style>\n",
       "<table border=\"1\" class=\"dataframe\">\n",
       "  <thead>\n",
       "    <tr style=\"text-align: right;\">\n",
       "      <th></th>\n",
       "      <th>title</th>\n",
       "      <th>author</th>\n",
       "      <th>year</th>\n",
       "    </tr>\n",
       "  </thead>\n",
       "  <tbody>\n",
       "    <tr>\n",
       "      <th>0</th>\n",
       "      <td>The Weirdstone of Brisingamen</td>\n",
       "      <td>Alan Garner</td>\n",
       "      <td>1960</td>\n",
       "    </tr>\n",
       "    <tr>\n",
       "      <th>1</th>\n",
       "      <td>Perdido Street Station</td>\n",
       "      <td>China MiÃ©ville</td>\n",
       "      <td>2000</td>\n",
       "    </tr>\n",
       "    <tr>\n",
       "      <th>2</th>\n",
       "      <td>Thud!</td>\n",
       "      <td>Terry Pratchett</td>\n",
       "      <td>2005</td>\n",
       "    </tr>\n",
       "    <tr>\n",
       "      <th>3</th>\n",
       "      <td>The Spellman Files</td>\n",
       "      <td>Lisa Lutz</td>\n",
       "      <td>2007</td>\n",
       "    </tr>\n",
       "    <tr>\n",
       "      <th>4</th>\n",
       "      <td>Small Gods</td>\n",
       "      <td>Terry Pratchett</td>\n",
       "      <td>1992</td>\n",
       "    </tr>\n",
       "  </tbody>\n",
       "</table>\n",
       "</div>"
      ],
      "text/plain": [
       "                           title           author  year\n",
       "0  The Weirdstone of Brisingamen      Alan Garner  1960\n",
       "1         Perdido Street Station  China MiÃ©ville  2000\n",
       "2                          Thud!  Terry Pratchett  2005\n",
       "3             The Spellman Files        Lisa Lutz  2007\n",
       "4                     Small Gods  Terry Pratchett  1992"
      ]
     },
     "execution_count": 5,
     "metadata": {},
     "output_type": "execute_result"
    }
   ],
   "source": [
    "df"
   ]
  },
  {
   "cell_type": "markdown",
   "id": "762ca0d5",
   "metadata": {},
   "source": [
    "6. Select and print the title column from the book table in alphabetical order."
   ]
  },
  {
   "cell_type": "code",
   "execution_count": 20,
   "id": "288a01de",
   "metadata": {},
   "outputs": [
    {
     "name": "stdout",
     "output_type": "stream",
     "text": [
      "('Perdido Street Station',)\n",
      "('Small Gods',)\n",
      "('The Spellman Files',)\n",
      "('The Weirdstone of Brisingamen',)\n",
      "('Thud!',)\n"
     ]
    }
   ],
   "source": [
    "values=cursor.execute(\"select title from books order by(title)\")\n",
    "for i in values:\n",
    "    print(i)"
   ]
  },
  {
   "cell_type": "code",
   "execution_count": 21,
   "id": "9a157236",
   "metadata": {},
   "outputs": [
    {
     "name": "stdout",
     "output_type": "stream",
     "text": [
      "('The Weirdstone of Brisingamen', 'Alan Garner', 1960)\n",
      "('Small Gods', 'Terry Pratchett', 1992)\n",
      "('Perdido Street Station', 'China MiÃ©ville', 2000)\n",
      "('Thud!', 'Terry Pratchett', 2005)\n",
      "('The Spellman Files', 'Lisa Lutz', 2007)\n"
     ]
    }
   ],
   "source": [
    "#7. From the book table, select and print all columns in the order of publication.\n",
    "values=cursor.execute('select * from books order by(year)')\n",
    "for i in values:\n",
    "    print(i)"
   ]
  },
  {
   "cell_type": "code",
   "execution_count": 29,
   "id": "8369cb6d",
   "metadata": {},
   "outputs": [
    {
     "name": "stdout",
     "output_type": "stream",
     "text": [
      "Requirement already satisfied: sqlalchemy in c:\\users\\dell\\anaconda3\\lib\\site-packages (1.4.32)\n",
      "Requirement already satisfied: greenlet!=0.4.17 in c:\\users\\dell\\anaconda3\\lib\\site-packages (from sqlalchemy) (1.1.1)\n"
     ]
    }
   ],
   "source": [
    "#8. Use the sqlalchemy module to connect to the sqlite3 database books.db that you just made in exercise 6.\n",
    "!pip install sqlalchemy"
   ]
  },
  {
   "cell_type": "code",
   "execution_count": 30,
   "id": "d7ab4a6e",
   "metadata": {},
   "outputs": [],
   "source": [
    "import sqlalchemy as alchemy"
   ]
  },
  {
   "cell_type": "code",
   "execution_count": 43,
   "id": "5d79c215",
   "metadata": {},
   "outputs": [
    {
     "name": "stdout",
     "output_type": "stream",
     "text": [
      "('Perdido Street Station',)\n",
      "('Small Gods',)\n",
      "('The Spellman Files',)\n",
      "('The Weirdstone of Brisingamen',)\n",
      "('Thud!',)\n"
     ]
    }
   ],
   "source": [
    "engine=alchemy.create_engine('sqlite:///books.db')\n",
    "con=engine.connect()\n",
    "metadata = alchemy.MetaData()\n",
    "\n",
    "shows = alchemy.Table('books', metadata, autoload=True, autoload_with=engine)\n",
    "\n",
    "query = alchemy.select([shows.columns.title]).order_by(shows.columns.title)\n",
    "\n",
    "result_proxy = con.execute(query)\n",
    "\n",
    "for rows in result_proxy:\n",
    "    print(rows)"
   ]
  }
 ],
 "metadata": {
  "kernelspec": {
   "display_name": "Python 3 (ipykernel)",
   "language": "python",
   "name": "python3"
  },
  "language_info": {
   "codemirror_mode": {
    "name": "ipython",
    "version": 3
   },
   "file_extension": ".py",
   "mimetype": "text/x-python",
   "name": "python",
   "nbconvert_exporter": "python",
   "pygments_lexer": "ipython3",
   "version": "3.9.12"
  }
 },
 "nbformat": 4,
 "nbformat_minor": 5
}
