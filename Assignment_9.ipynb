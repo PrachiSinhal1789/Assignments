{
 "cells": [
  {
   "cell_type": "markdown",
   "id": "ca2480b6",
   "metadata": {},
   "source": [
    "1. To what does a relative path refer?\n",
    "2. What does an absolute path start with your operating system?\n",
    "3. What do the functions os.getcwd() and os.chdir() do?\n",
    "4. What are the . and .. folders?\n",
    "5. In C:\\bacon\\eggs\\spam.txt, which part is the dir name, and which part is the base name?\n",
    "6. What are the three “mode” arguments that can be passed to the open() function?\n",
    "7. What happens if an existing file is opened in write mode?\n",
    "8. How do you tell the difference between read() and readlines()?\n",
    "9. What data structure does a shelf value resemble?"
   ]
  },
  {
   "cell_type": "markdown",
   "id": "f619f950",
   "metadata": {},
   "source": [
    "Ans1.A relative path in Python is a path that describes the location of a directory relative to the entry \n",
    "point where you run the Python script."
   ]
  },
  {
   "cell_type": "markdown",
   "id": "f6b5baf8",
   "metadata": {},
   "source": [
    "Ans2.An absolute path is defined as the specifying the location of a file or directory from the root directory(/). \n",
    "In other words we can say absolute path is a complete path from start of actual filesystem from / directory."
   ]
  },
  {
   "cell_type": "markdown",
   "id": "ea5ff543",
   "metadata": {},
   "source": [
    "Ans3.os.getcwd() gives current working directory and os.chdir() method in Python is used to change the current working\n",
    "directory to specified path. It takes only a single argument as new directory path."
   ]
  },
  {
   "cell_type": "markdown",
   "id": "16dfece8",
   "metadata": {},
   "source": [
    "Ans4. '.' represents the current directory while '..' represents the parent directory"
   ]
  },
  {
   "cell_type": "markdown",
   "id": "4cbb7dc9",
   "metadata": {},
   "source": [
    "Ans5. C:\\bacon\\eggs is the dir name, while spam.txt is the base name"
   ]
  },
  {
   "cell_type": "markdown",
   "id": "04f3f12a",
   "metadata": {},
   "source": [
    "Ans6. \n",
    "r : Opens the file in read-only mode. \n",
    "rb : Opens the file as read-only in binary format and starts reading from the beginning of the file.\n",
    "r+ : Opens a file for reading and writing, placing the pointer at the beginning of the file."
   ]
  },
  {
   "cell_type": "markdown",
   "id": "8f49ac9e",
   "metadata": {},
   "source": [
    "Ans7.\n",
    "If a file with the same name already exists, its contents are discarded and the file is treated as a new empty file."
   ]
  },
  {
   "cell_type": "markdown",
   "id": "ab58666a",
   "metadata": {},
   "source": [
    "Ans8.\n",
    "read() reads the entire contents of the file into a string. We can also give read() an optional argument, \n",
    "which designates the number of characters to read from the file.\n",
    "Readline ( ) returns the next line of the file, which contains a newline character in the end. \n",
    "Also, if the end of the file is reached, it will return an empty string."
   ]
  },
  {
   "cell_type": "markdown",
   "id": "fa442977",
   "metadata": {},
   "source": [
    "Ans. Dictionary"
   ]
  }
 ],
 "metadata": {
  "kernelspec": {
   "display_name": "Python 3 (ipykernel)",
   "language": "python",
   "name": "python3"
  },
  "language_info": {
   "codemirror_mode": {
    "name": "ipython",
    "version": 3
   },
   "file_extension": ".py",
   "mimetype": "text/x-python",
   "name": "python",
   "nbconvert_exporter": "python",
   "pygments_lexer": "ipython3",
   "version": "3.9.12"
  }
 },
 "nbformat": 4,
 "nbformat_minor": 5
}
