{
 "cells": [
  {
   "cell_type": "markdown",
   "id": "4defd2ff",
   "metadata": {},
   "source": [
    "1. What does an empty dictionary's code look like?\n",
    "\n",
    "Ans:d={}\n",
    "\n",
    "2. What is the value of a dictionary value with the key 'foo' and the value 42?\n",
    "\n",
    "Ans:d={'foo':42}\n",
    "\n",
    "3. What is the most significant distinction between a dictionary and a list?\n",
    "\n",
    "Ans:Dictionary refers to key value pair whereas list refers to index value pair.\n",
    "\n",
    "\n",
    "4. What happens if you try to access spam['foo'] if spam is {'bar': 100}?\n",
    "\n",
    "Ans:It gives error as 'foo' is not present \n",
    "\n",
    "5. If a dictionary is stored in spam, what is the difference between the expressions 'cat' in spam and\n",
    "'cat' in spam.keys()?\n",
    "\n",
    "Ans:'cat' in spam finds whether 'cat' is present in the key or not\n",
    "    'cat' in spam.keys() also does the same thing\n",
    "\n",
    "6. If a dictionary is stored in spam, what is the difference between the expressions 'cat' in spam and\n",
    "'cat' in spam.values()?\n",
    "\n",
    "Ans.'cat' in spam finds whether 'cat' is present in the key or not\n",
    "    'cat' in spam.values() finds whether 'cat' is present in the values or not\n",
    "\n",
    "7. What is a shortcut for the following code?\n",
    "if 'color' not in spam:\n",
    "spam['color'] = 'black';\n",
    "\n",
    "Ans:spam.setdefault('color','black')\n",
    "\n",
    "8. How do you \"pretty print\" dictionary values using which module and function?\n",
    "\n",
    "Ans:we use the module pprint and function pprint()\n",
    "    eg. import pprint\n",
    "        d={'a':{'b':9,'c':3},'a1':{'b':9,'c':3},'v1':{'a1':{'b':9,'c':3}},'books': ['Harry Potter', 'Lord of the Rings']}\n",
    "        pprint.pprint(d)"
   ]
  }
 ],
 "metadata": {
  "kernelspec": {
   "display_name": "Python 3 (ipykernel)",
   "language": "python",
   "name": "python3"
  },
  "language_info": {
   "codemirror_mode": {
    "name": "ipython",
    "version": 3
   },
   "file_extension": ".py",
   "mimetype": "text/x-python",
   "name": "python",
   "nbconvert_exporter": "python",
   "pygments_lexer": "ipython3",
   "version": "3.9.12"
  }
 },
 "nbformat": 4,
 "nbformat_minor": 5
}
