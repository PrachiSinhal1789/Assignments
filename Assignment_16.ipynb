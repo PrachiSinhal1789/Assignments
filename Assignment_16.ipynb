{
 "cells": [
  {
   "cell_type": "markdown",
   "id": "458b36b2",
   "metadata": {},
   "source": [
    "1. Create a list called years_list, starting with the year of your birth, and each year thereafter until the year of your fifth birthday. For example, if you were born in 1980. the list would be years_list = [1980, 1981, 1982, 1983, 1984, 1985].\n",
    "2. In which year in years_list was your third birthday? Remember, you were 0 years of age for your first year.\n",
    "3.In the years list, which year were you the oldest?\n",
    "4. Make a list called things with these three strings as elements: \"mozzarella\", \"cinderella\", \"salmonella\".\n",
    "5. Capitalize the element in things that refers to a person and then print the list. Did it change the element in the list?\n",
    "6. Make a surprise list with the elements \"Groucho,\" \"Chico,\" and \"Harpo.\"\n",
    "7. Lowercase the last element of the surprise list, reverse it, and then capitalize it.\n",
    "8. Make an English-to-French dictionary called e2f and print it. Here are your starter words: dog is chien, cat is chat, and walrus is morse.\n",
    "9. Write the French word for walrus in your three-word dictionary e2f.\n",
    "10. Make a French-to-English dictionary called f2e from e2f. Use the items method.\n",
    "11. Print the English version of the French word chien using f2e.\n",
    "12. Make and print a set of English words from the keys in e2f.\n",
    "13. Make a multilevel dictionary called life. Use these strings for the topmost keys: 'animals', 'plants', and 'other'. Make the 'animals' key refer to another dictionary with the keys 'cats', 'octopi', and 'emus'. Make the 'cats' key refer to a list of strings with the values 'Henri', 'Grumpy', and 'Lucy'. Make all the other keys refer to empty dictionaries.\n",
    "14. Print the top-level keys of life.\n",
    "15. Print the keys for life['animals'].\n",
    "16. Print the values for life['animals']['cats']"
   ]
  },
  {
   "cell_type": "markdown",
   "id": "6dc3572f",
   "metadata": {},
   "source": [
    "1. Create a list called years_list, starting with the year of your birth, and each year thereafter until the year of your fifth birthday. For example, if you were born in 1980. the list would be years_list = [1980, 1981, 1982, 1983, 1984, 1985]."
   ]
  },
  {
   "cell_type": "code",
   "execution_count": 4,
   "id": "58a2a4ff",
   "metadata": {},
   "outputs": [
    {
     "data": {
      "text/plain": [
       "[1992, 1993, 1994, 1995, 1996, 1997]"
      ]
     },
     "execution_count": 4,
     "metadata": {},
     "output_type": "execute_result"
    }
   ],
   "source": [
    "years_list=[1992]\n",
    "while(len(years_list)<6):\n",
    "    years_list.append(years_list[len(years_list)-1]+1)\n",
    "years_list"
   ]
  },
  {
   "cell_type": "code",
   "execution_count": 5,
   "id": "7df46b99",
   "metadata": {},
   "outputs": [
    {
     "data": {
      "text/plain": [
       "1995"
      ]
     },
     "execution_count": 5,
     "metadata": {},
     "output_type": "execute_result"
    }
   ],
   "source": [
    "#2. In which year in years_list was your third birthday? Remember, you were 0 years of age for your first year.\n",
    "\n",
    "years_list[3]"
   ]
  },
  {
   "cell_type": "code",
   "execution_count": 6,
   "id": "7ad4f5bb",
   "metadata": {},
   "outputs": [
    {
     "data": {
      "text/plain": [
       "1997"
      ]
     },
     "execution_count": 6,
     "metadata": {},
     "output_type": "execute_result"
    }
   ],
   "source": [
    "#3.In the years list, which year were you the oldest?\n",
    "years_list[-1]"
   ]
  },
  {
   "cell_type": "code",
   "execution_count": 7,
   "id": "cb5c685f",
   "metadata": {},
   "outputs": [
    {
     "data": {
      "text/plain": [
       "['mozzarella', 'cinderella', 'salmonella']"
      ]
     },
     "execution_count": 7,
     "metadata": {},
     "output_type": "execute_result"
    }
   ],
   "source": [
    "#4. Make a list called things with these three strings as elements: \"mozzarella\", \"cinderella\", \"salmonella\".\n",
    "things = ['mozzarella', 'cinderella','salmonella']\n",
    "things"
   ]
  },
  {
   "cell_type": "code",
   "execution_count": 13,
   "id": "e37e5b69",
   "metadata": {},
   "outputs": [
    {
     "name": "stdout",
     "output_type": "stream",
     "text": [
      "Mozzarella\n",
      "Cinderella\n",
      "Salmonella\n"
     ]
    },
    {
     "data": {
      "text/plain": [
       "['Mozzarella', 'Cinderella', 'Salmonella']"
      ]
     },
     "execution_count": 13,
     "metadata": {},
     "output_type": "execute_result"
    }
   ],
   "source": [
    "#5. Capitalize the element in things that refers to a person and then print the list. Did it change the element in the list?\n",
    "for i in things:\n",
    "    print(i.capitalize())\n",
    "things\n",
    "#Capitalize() will not update the list original values."
   ]
  },
  {
   "cell_type": "code",
   "execution_count": 14,
   "id": "91384d85",
   "metadata": {},
   "outputs": [
    {
     "data": {
      "text/plain": [
       "['Groucho', 'Chico', 'Harpo']"
      ]
     },
     "execution_count": 14,
     "metadata": {},
     "output_type": "execute_result"
    }
   ],
   "source": [
    "#6. Make a surprise list with the elements \"Groucho,\" \"Chico,\" and \"Harpo.\"\n",
    "surprise = [\"Groucho\", \"Chico\", \"Harpo\"]\n",
    "surprise"
   ]
  },
  {
   "cell_type": "code",
   "execution_count": 20,
   "id": "57b1d83a",
   "metadata": {},
   "outputs": [
    {
     "data": {
      "text/plain": [
       "'Oprah'"
      ]
     },
     "execution_count": 20,
     "metadata": {},
     "output_type": "execute_result"
    }
   ],
   "source": [
    "#7. Lowercase the last element of the surprise list, reverse it, and then capitalize it.\n",
    "surprise[-1].lower()[::-1].capitalize()"
   ]
  },
  {
   "cell_type": "markdown",
   "id": "af8b1446",
   "metadata": {},
   "source": [
    "8. Make an English-to-French dictionary called e2f and print it. Here are your starter words: dog is chien, cat is chat, and walrus is morse."
   ]
  },
  {
   "cell_type": "code",
   "execution_count": 21,
   "id": "b8c1b383",
   "metadata": {},
   "outputs": [
    {
     "data": {
      "text/plain": [
       "{'dog': 'chien', 'cat': 'chat', 'walrus': 'morse'}"
      ]
     },
     "execution_count": 21,
     "metadata": {},
     "output_type": "execute_result"
    }
   ],
   "source": [
    "e2f = {'dog':'chien','cat':'chat','walrus':'morse'}\n",
    "e2f"
   ]
  },
  {
   "cell_type": "code",
   "execution_count": 22,
   "id": "2eda5371",
   "metadata": {},
   "outputs": [
    {
     "data": {
      "text/plain": [
       "'morse'"
      ]
     },
     "execution_count": 22,
     "metadata": {},
     "output_type": "execute_result"
    }
   ],
   "source": [
    "#9. Write the French word for walrus in your three-word dictionary e2f.\n",
    "e2f['walrus']"
   ]
  },
  {
   "cell_type": "code",
   "execution_count": 23,
   "id": "70b7440c",
   "metadata": {},
   "outputs": [
    {
     "data": {
      "text/plain": [
       "{'chien': 'dog', 'chat': 'cat', 'morse': 'walrus'}"
      ]
     },
     "execution_count": 23,
     "metadata": {},
     "output_type": "execute_result"
    }
   ],
   "source": [
    "#10. Make a French-to-English dictionary called f2e from e2f. Use the items method.\n",
    "f2e = dict((key,value) for value,key in e2f.items())\n",
    "f2e"
   ]
  },
  {
   "cell_type": "code",
   "execution_count": 24,
   "id": "b72417c9",
   "metadata": {},
   "outputs": [
    {
     "data": {
      "text/plain": [
       "'dog'"
      ]
     },
     "execution_count": 24,
     "metadata": {},
     "output_type": "execute_result"
    }
   ],
   "source": [
    "#11. Print the English version of the French word chien using f2e.\n",
    "f2e['chien']"
   ]
  },
  {
   "cell_type": "code",
   "execution_count": 26,
   "id": "b6e86bda",
   "metadata": {},
   "outputs": [
    {
     "data": {
      "text/plain": [
       "{'cat', 'dog', 'walrus'}"
      ]
     },
     "execution_count": 26,
     "metadata": {},
     "output_type": "execute_result"
    }
   ],
   "source": [
    "#12. Make and print a set of English words from the keys in e2f.\n",
    "s=set(i for i in e2f.keys())\n",
    "s"
   ]
  },
  {
   "cell_type": "markdown",
   "id": "74d2fefb",
   "metadata": {},
   "source": [
    "13. Make a multilevel dictionary called life. Use these strings for the topmost keys: 'animals', 'plants', and 'other'. Make the 'animals' key refer to another dictionary with the keys 'cats', 'octopi', and 'emus'. Make the 'cats' key refer to a list of strings with the values 'Henri', 'Grumpy', and 'Lucy'. Make all the other keys refer to empty dictionaries."
   ]
  },
  {
   "cell_type": "code",
   "execution_count": 27,
   "id": "ec24f853",
   "metadata": {},
   "outputs": [
    {
     "data": {
      "text/plain": [
       "{'animals': {'cat': ['Henri', 'Grumpy', 'Lucy'], 'octopi': '', 'emus': ''},\n",
       " 'plants': '',\n",
       " 'other': ''}"
      ]
     },
     "execution_count": 27,
     "metadata": {},
     "output_type": "execute_result"
    }
   ],
   "source": [
    "life ={'animals':{'cat':['Henri', 'Grumpy', 'Lucy'], 'octopi':'', 'emus':''},\n",
    "       'plants' :'',\n",
    "       'other' :'' }\n",
    "life"
   ]
  },
  {
   "cell_type": "markdown",
   "id": "0c2925e7",
   "metadata": {},
   "source": [
    "14. Print the top-level keys of life.\n",
    "15. Print the keys for life['animals'].\n",
    "16. Print the values for life['animals']['cats']"
   ]
  },
  {
   "cell_type": "code",
   "execution_count": 28,
   "id": "1571ee2b",
   "metadata": {},
   "outputs": [
    {
     "data": {
      "text/plain": [
       "dict_keys(['animals', 'plants', 'other'])"
      ]
     },
     "execution_count": 28,
     "metadata": {},
     "output_type": "execute_result"
    }
   ],
   "source": [
    "life.keys()"
   ]
  },
  {
   "cell_type": "code",
   "execution_count": 29,
   "id": "c2d633e4",
   "metadata": {},
   "outputs": [
    {
     "data": {
      "text/plain": [
       "dict_keys(['cat', 'octopi', 'emus'])"
      ]
     },
     "execution_count": 29,
     "metadata": {},
     "output_type": "execute_result"
    }
   ],
   "source": [
    " life['animals'].keys()"
   ]
  },
  {
   "cell_type": "code",
   "execution_count": 33,
   "id": "5b4c10b3",
   "metadata": {},
   "outputs": [
    {
     "data": {
      "text/plain": [
       "['Henri', 'Grumpy', 'Lucy']"
      ]
     },
     "execution_count": 33,
     "metadata": {},
     "output_type": "execute_result"
    }
   ],
   "source": [
    "life['animals']['cat']"
   ]
  }
 ],
 "metadata": {
  "kernelspec": {
   "display_name": "Python 3 (ipykernel)",
   "language": "python",
   "name": "python3"
  },
  "language_info": {
   "codemirror_mode": {
    "name": "ipython",
    "version": 3
   },
   "file_extension": ".py",
   "mimetype": "text/x-python",
   "name": "python",
   "nbconvert_exporter": "python",
   "pygments_lexer": "ipython3",
   "version": "3.9.12"
  }
 },
 "nbformat": 4,
 "nbformat_minor": 5
}
