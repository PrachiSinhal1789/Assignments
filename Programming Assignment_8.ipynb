{
 "cells": [
  {
   "cell_type": "code",
   "execution_count": 7,
   "id": "1be65ba7",
   "metadata": {},
   "outputs": [
    {
     "name": "stdout",
     "output_type": "stream",
     "text": [
      "[[1, 4, 7, 5], [5, 8, 11, 4], [13, 15, 17, 9]]\n"
     ]
    }
   ],
   "source": [
    "#1.\tWrite a Python Program to Add Two Matrices?\n",
    "m1=[[1,2,3,1],[4,5,6,1],[7,8,9,0]]\n",
    "m2=[[0,2,4,4],[1,3,5,3],[6,7,8,9]]\n",
    "r=[[0,0,0,0],[0,0,0,0],[0,0,0,0]]\n",
    "for i in range(len(m1)):\n",
    "    for j in range(len(m1[0])):\n",
    "        r[i][j]=m1[i][j]+m2[i][j]\n",
    "print(r)"
   ]
  },
  {
   "cell_type": "code",
   "execution_count": 10,
   "id": "bda6ee77",
   "metadata": {},
   "outputs": [
    {
     "name": "stdout",
     "output_type": "stream",
     "text": [
      "[[23, 32, 37], [47, 71, 85], [71, 110, 133]]\n"
     ]
    }
   ],
   "source": [
    "#2.\tWrite a Python Program to Multiply Two Matrices?\n",
    "m1=[[1,2,3],[4,5,6],[7,8,9]]\n",
    "m2=[[0,2,4],[1,3,3],[7,8,9]]\n",
    "r=[[0,0,0],[0,0,0],[0,0,0]]\n",
    "\n",
    "for i in range(len(m1)):\n",
    "    for j in range(len(m1[0])):\n",
    "        for k in range(len(m2[0])):\n",
    "             r[i][j]=r[i][j]+m1[i][k]*m2[k][j]\n",
    "print(r)"
   ]
  },
  {
   "cell_type": "code",
   "execution_count": 11,
   "id": "a25bb8c0",
   "metadata": {},
   "outputs": [
    {
     "name": "stdout",
     "output_type": "stream",
     "text": [
      "[[1, 4, 7], [2, 5, 8], [3, 6, 9]]\n"
     ]
    }
   ],
   "source": [
    "#3.\tWrite a Python Program to Transpose a Matrix?\n",
    "m1=[[1,2,3],[4,5,6],[7,8,9]]\n",
    "r=[[0,0,0],[0,0,0],[0,0,0]]\n",
    "for i in range(len(m1)):\n",
    "    for j in range(len(m1[0])):\n",
    "        r[j][i]=m1[i][j]\n",
    "print(r)"
   ]
  },
  {
   "cell_type": "code",
   "execution_count": 15,
   "id": "e8361bcb",
   "metadata": {},
   "outputs": [
    {
     "data": {
      "text/plain": [
       "['am',\n",
       " 'assignments',\n",
       " 'by',\n",
       " 'doing',\n",
       " 'given',\n",
       " 'i',\n",
       " 'ineuron',\n",
       " 'of',\n",
       " 'python',\n",
       " 'the']"
      ]
     },
     "execution_count": 15,
     "metadata": {},
     "output_type": "execute_result"
    }
   ],
   "source": [
    "#4.\tWrite a Python Program to Sort Words in Alphabetic Order?\n",
    "sentence='I am doing the assignments of Python given by iNeuron'\n",
    "sentence=sentence.lower()\n",
    "words=sentence.split()\n",
    "words.sort()\n",
    "words"
   ]
  },
  {
   "cell_type": "code",
   "execution_count": 25,
   "id": "b088240c",
   "metadata": {},
   "outputs": [
    {
     "data": {
      "text/plain": [
       "'Hihow are you'"
      ]
     },
     "execution_count": 25,
     "metadata": {},
     "output_type": "execute_result"
    }
   ],
   "source": [
    "#5.Write a Python Program to Remove Punctuation From a String?\n",
    "sentence='Hi*,how-- are! you|?'\n",
    "import regex as re\n",
    "sent=re.sub(r'[^\\w\\s]','',sentence)\n",
    "sent"
   ]
  }
 ],
 "metadata": {
  "kernelspec": {
   "display_name": "Python 3 (ipykernel)",
   "language": "python",
   "name": "python3"
  },
  "language_info": {
   "codemirror_mode": {
    "name": "ipython",
    "version": 3
   },
   "file_extension": ".py",
   "mimetype": "text/x-python",
   "name": "python",
   "nbconvert_exporter": "python",
   "pygments_lexer": "ipython3",
   "version": "3.9.12"
  }
 },
 "nbformat": 4,
 "nbformat_minor": 5
}
