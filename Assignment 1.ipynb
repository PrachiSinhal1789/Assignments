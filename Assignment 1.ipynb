{
 "cells": [
  {
   "cell_type": "markdown",
   "id": "7ea2497c",
   "metadata": {},
   "source": [
    "Q1. What is the purpose of Python's OOP?\n",
    "\n",
    "Ans: It is used to write modular and structured program and it increases reusability of code.\n",
    "\n",
    "\n",
    "\n",
    "Q2. Where does an inheritance search look for an attribute?\n",
    "\n",
    "Ans: When an instance or object is created.\n",
    "\n",
    "\n",
    "\n",
    "Q3. How do you distinguish between a class object and an instance object?\n",
    "\n",
    "Ans: Whenever a class is defined, class object is created and when we call a class, an instance object is created.\n",
    "\n",
    "\n",
    "\n",
    "Q4. What makes the first argument in a class’s method function special?\n",
    "\n",
    "Ans: It refers to the present class and using it we can access the attributes and methods of that class.\n",
    "\n",
    "\n",
    "\n",
    "Q5. What is the purpose of the __init__ method?\n",
    "\n",
    "Ans. It helps to assign values to class variables/attributes which can be used anywhere within that class.\n",
    "\n",
    "\n",
    "\n",
    "Q6. What is the process for creating a class instance?\n",
    "\n",
    "Ans. instance_name=classname()\n",
    "\n",
    "\n",
    "\n",
    "Q7. What is the process for creating a class?\n",
    "\n",
    "Ans: class class_name:\n",
    "        pass\n",
    "\n",
    "\n",
    "Q8. How would you define the superclasses of a class?\n",
    "\n",
    "Ans:class Superclass:\n",
    "        pass\n",
    "     class Chils(Superclass):\n",
    "         pass\n",
    "         \n",
    "    So by inheritance we define superclass of a class\n"
   ]
  }
 ],
 "metadata": {
  "kernelspec": {
   "display_name": "Python 3 (ipykernel)",
   "language": "python",
   "name": "python3"
  },
  "language_info": {
   "codemirror_mode": {
    "name": "ipython",
    "version": 3
   },
   "file_extension": ".py",
   "mimetype": "text/x-python",
   "name": "python",
   "nbconvert_exporter": "python",
   "pygments_lexer": "ipython3",
   "version": "3.9.12"
  }
 },
 "nbformat": 4,
 "nbformat_minor": 5
}
