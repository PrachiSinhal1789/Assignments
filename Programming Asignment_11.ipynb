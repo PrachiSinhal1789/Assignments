{
 "cells": [
  {
   "cell_type": "code",
   "execution_count": 2,
   "id": "f4e2ee4b",
   "metadata": {},
   "outputs": [
    {
     "name": "stdout",
     "output_type": "stream",
     "text": [
      "interdisciplinary\n",
      "scientific\n",
      "methods,\n",
      "processes,\n",
      "algorithms\n",
      "extrapolate\n",
      "knowledge\n",
      "insights\n",
      "structured\n",
      "unstructured\n",
      "data,and\n",
      "knowledge\n",
      "application\n"
     ]
    }
   ],
   "source": [
    "# 1.Write a Python program to find words which are greater than given length k?\n",
    "k=7\n",
    "sentence=\"\"\"Data science is an interdisciplinary field that uses scientific methods, processes, algorithms and \n",
    "    systems to extract or extrapolate knowledge and insights from noisy, structured and unstructured data,and apply \n",
    "    knowledge from data across a broad range of application domains\"\"\"\n",
    "words=sentence.split()\n",
    "for i in words:\n",
    "    if len(i)>k:\n",
    "        print(i)"
   ]
  },
  {
   "cell_type": "code",
   "execution_count": 4,
   "id": "5e55cacf",
   "metadata": {},
   "outputs": [
    {
     "name": "stdout",
     "output_type": "stream",
     "text": [
      "Which position character is to be removed3\n"
     ]
    },
    {
     "data": {
      "text/plain": [
       "'inerdisciplinary'"
      ]
     },
     "execution_count": 4,
     "metadata": {},
     "output_type": "execute_result"
    }
   ],
   "source": [
    "#2.\tWrite a Python program for removing i-th character from a string?\n",
    "s='interdisciplinary'\n",
    "i=int(input('Which position character is to be removed'))\n",
    "s.replace(s[i-1],'')"
   ]
  },
  {
   "cell_type": "code",
   "execution_count": 5,
   "id": "fcd54ae3",
   "metadata": {},
   "outputs": [
    {
     "name": "stdout",
     "output_type": "stream",
     "text": [
      "After splitting: ['Data', 'science', 'is', 'an', 'interdisciplinary', 'field']\n",
      "After joining: Data science is an interdisciplinary field\n"
     ]
    }
   ],
   "source": [
    "#3.\tWrite a Python program to split and join a string?\n",
    "s='Data science is an interdisciplinary field'\n",
    "words=s.split()\n",
    "print('After splitting:',words)\n",
    "new=' '.join(words)\n",
    "print('After joining:',new)\n"
   ]
  },
  {
   "cell_type": "code",
   "execution_count": 18,
   "id": "6e029399",
   "metadata": {},
   "outputs": [
    {
     "name": "stdout",
     "output_type": "stream",
     "text": [
      "Enter string:101011000\n",
      "Yes\n"
     ]
    }
   ],
   "source": [
    "#4.\tWrite a Python to check if a given string is binary string or not?\n",
    "s=input('Enter string:')\n",
    "result=True\n",
    "for i in s:\n",
    "    if i=='0' or i=='1':\n",
    "        continue\n",
    "    else:\n",
    "        result=False\n",
    "        break\n",
    "if (result):\n",
    "    print('Yes')\n",
    "else:\n",
    "    print('No')"
   ]
  },
  {
   "cell_type": "code",
   "execution_count": 33,
   "id": "de9c2170",
   "metadata": {},
   "outputs": [
    {
     "name": "stdout",
     "output_type": "stream",
     "text": [
      "is\n",
      "an\n",
      "interdisciplinary\n",
      "field\n",
      "that\n",
      "scientific\n",
      "methods\n",
      "mining\n",
      "and\n",
      "machine\n",
      "learning\n"
     ]
    }
   ],
   "source": [
    "#5.\tWrite a Python program to find uncommon words from two Strings?\n",
    "s1='Data science is an interdisciplinary field that uses scientific methods'\n",
    "s2='Data science uses data mining and machine learning '\n",
    "w1=s1.split()\n",
    "w2=s2.split()\n",
    "for i in w1:\n",
    "    c=1\n",
    "    for j in w2:\n",
    "        if i.lower()==j.lower():\n",
    "            c=0\n",
    "            break\n",
    "    if c==1:\n",
    "        print(i)\n",
    "for i in w2:\n",
    "    c=1\n",
    "    for j in w1:\n",
    "        if i.lower()==j.lower():\n",
    "            c=0\n",
    "            break\n",
    "    if c==1:\n",
    "        print(i)"
   ]
  },
  {
   "cell_type": "code",
   "execution_count": 58,
   "id": "4024be73",
   "metadata": {},
   "outputs": [
    {
     "data": {
      "text/plain": [
       "['m', 'a', 'l']"
      ]
     },
     "execution_count": 58,
     "metadata": {},
     "output_type": "execute_result"
    }
   ],
   "source": [
    "#6.\tWrite a Python to find all duplicate characters in string?\n",
    "s='malayalam'\n",
    "l=[]\n",
    "for i in s:\n",
    "    if i not in l and s.count(i)>1:\n",
    "        l.append(i)\n",
    "l"
   ]
  },
  {
   "cell_type": "code",
   "execution_count": 63,
   "id": "26b4e3a7",
   "metadata": {},
   "outputs": [
    {
     "name": "stdout",
     "output_type": "stream",
     "text": [
      "special character is present\n"
     ]
    }
   ],
   "source": [
    "#7.\tWrite a Python Program to check if a string contains any special character?\n",
    "s='238jk@jh'\n",
    "if s.isalnum():\n",
    "    print('no special character present')\n",
    "else:\n",
    "    print('special character is present')"
   ]
  }
 ],
 "metadata": {
  "kernelspec": {
   "display_name": "Python 3 (ipykernel)",
   "language": "python",
   "name": "python3"
  },
  "language_info": {
   "codemirror_mode": {
    "name": "ipython",
    "version": 3
   },
   "file_extension": ".py",
   "mimetype": "text/x-python",
   "name": "python",
   "nbconvert_exporter": "python",
   "pygments_lexer": "ipython3",
   "version": "3.9.12"
  }
 },
 "nbformat": 4,
 "nbformat_minor": 5
}
