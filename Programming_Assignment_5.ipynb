{
 "cells": [
  {
   "cell_type": "code",
   "execution_count": 5,
   "id": "ba650fbb",
   "metadata": {},
   "outputs": [
    {
     "name": "stdout",
     "output_type": "stream",
     "text": [
      "LCM: 30\n"
     ]
    }
   ],
   "source": [
    "#1.\tWrite a Python Program to Find LCM?\n",
    "a,b=10,15\n",
    "if a>b:\n",
    "    greater=a\n",
    "else:\n",
    "    greater=b\n",
    "    \n",
    "while True:\n",
    "    if (greater%a==0 and greater%b==0):\n",
    "        lcm=greater\n",
    "        break\n",
    "        \n",
    "    else:\n",
    "        greater+=1\n",
    "print('LCM:',lcm)"
   ]
  },
  {
   "cell_type": "code",
   "execution_count": 7,
   "id": "0ee04d5b",
   "metadata": {},
   "outputs": [
    {
     "name": "stdout",
     "output_type": "stream",
     "text": [
      "HCF: 5\n"
     ]
    }
   ],
   "source": [
    "#2.\tWrite a Python Program to Find HCF?\n",
    "a,b=10,15\n",
    "if a>b:\n",
    "    smaller=b\n",
    "else:\n",
    "    smaller=a\n",
    "for i in range(1,smaller+1):\n",
    "    if (a%i==0 and b%i==0):\n",
    "        hcf=i\n",
    "print('HCF:',hcf)"
   ]
  },
  {
   "cell_type": "code",
   "execution_count": 13,
   "id": "19b57d85",
   "metadata": {},
   "outputs": [
    {
     "name": "stdout",
     "output_type": "stream",
     "text": [
      "binary:0b1100100\n",
      "Octal:0o144\n",
      "Hexadecimal:0x64\n"
     ]
    }
   ],
   "source": [
    "#3.\tWrite a Python Program to Convert Decimal to Binary, Octal and Hexadecimal?\n",
    "dec=100\n",
    "b=bin(dec)\n",
    "o=oct(dec)\n",
    "h=hex(dec)\n",
    "print(f'binary:{b}\\nOctal:{o}\\nHexadecimal:{h}')"
   ]
  },
  {
   "cell_type": "code",
   "execution_count": 16,
   "id": "d0cea50b",
   "metadata": {},
   "outputs": [
    {
     "name": "stdout",
     "output_type": "stream",
     "text": [
      "ASCII value of A is 65\n"
     ]
    }
   ],
   "source": [
    "#4.\tWrite a Python Program To Find ASCII value of a character?\n",
    "s='A'\n",
    "print(f'ASCII value of {s} is {ord(s)}')"
   ]
  },
  {
   "cell_type": "code",
   "execution_count": 17,
   "id": "d41ee408",
   "metadata": {},
   "outputs": [
    {
     "name": "stdout",
     "output_type": "stream",
     "text": [
      "15+2=17\n",
      "15-2=13\n",
      "15*2=30\n",
      "15/2=7.5\n"
     ]
    }
   ],
   "source": [
    "#5.\tWrite a Python Program to Make a Simple Calculator with 4 basic mathematical operations?\n",
    "a=15\n",
    "b=2\n",
    "print(f'{a}+{b}={a+b}\\n{a}-{b}={a-b}\\n{a}*{b}={a*b}\\n{a}/{b}={a/b}')"
   ]
  }
 ],
 "metadata": {
  "kernelspec": {
   "display_name": "Python 3 (ipykernel)",
   "language": "python",
   "name": "python3"
  },
  "language_info": {
   "codemirror_mode": {
    "name": "ipython",
    "version": 3
   },
   "file_extension": ".py",
   "mimetype": "text/x-python",
   "name": "python",
   "nbconvert_exporter": "python",
   "pygments_lexer": "ipython3",
   "version": "3.9.12"
  }
 },
 "nbformat": 4,
 "nbformat_minor": 5
}
