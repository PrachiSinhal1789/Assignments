{
 "cells": [
  {
   "cell_type": "code",
   "execution_count": 17,
   "id": "58c8e0cc",
   "metadata": {},
   "outputs": [
    {
     "name": "stdout",
     "output_type": "stream",
     "text": [
      "Disarium Number\n"
     ]
    }
   ],
   "source": [
    "#1.\tWrite a Python program to check if the given number is a Disarium Number?\n",
    "num=135\n",
    "l=len(str(num))\n",
    "count=1\n",
    "n=num\n",
    "sum=0\n",
    "while n!=0:\n",
    "    r=n%10\n",
    "    n=n//10\n",
    "    sum=sum+(r**l)\n",
    "    l-=1\n",
    "if sum==num:\n",
    "    print('Disarium Number')\n",
    "else:\n",
    "    print('Not a Disarium Number')"
   ]
  },
  {
   "cell_type": "code",
   "execution_count": 19,
   "id": "e5f1a445",
   "metadata": {},
   "outputs": [
    {
     "name": "stdout",
     "output_type": "stream",
     "text": [
      "1\n",
      "2\n",
      "3\n",
      "4\n",
      "5\n",
      "6\n",
      "7\n",
      "8\n",
      "9\n",
      "89\n"
     ]
    }
   ],
   "source": [
    "#2.\tWrite a Python program to print all disarium numbers between 1 to 100?\n",
    "for i in range(1,101):\n",
    "    num=i\n",
    "    l=len(str(num))\n",
    "    count=1\n",
    "    n=num\n",
    "    sum=0\n",
    "    while n!=0:\n",
    "        r=n%10\n",
    "        n=n//10\n",
    "        sum=sum+(r**l)\n",
    "        l-=1\n",
    "    if sum==num:\n",
    "        print(i)"
   ]
  },
  {
   "cell_type": "code",
   "execution_count": 35,
   "id": "07706fa0",
   "metadata": {},
   "outputs": [
    {
     "name": "stdout",
     "output_type": "stream",
     "text": [
      "not a happy no\n"
     ]
    }
   ],
   "source": [
    "#3.\tWrite a Python program to check if the given number is Happy Number?\n",
    "num=26\n",
    "l=len(str(num))\n",
    "n=num\n",
    "sum=num\n",
    "while l!=1:\n",
    "    n=sum\n",
    "    sum=0    \n",
    "    while n!=0:\n",
    "        r=n%10\n",
    "        n=n//10\n",
    "        sum=sum+(r**2)\n",
    "    l=len(str(sum))\n",
    "if l==1:\n",
    "    if sum==1:\n",
    "        print('happy no')\n",
    "    else:\n",
    "        print('not a happy no')"
   ]
  },
  {
   "cell_type": "code",
   "execution_count": 36,
   "id": "170de5a1",
   "metadata": {},
   "outputs": [
    {
     "name": "stdout",
     "output_type": "stream",
     "text": [
      "1\n",
      "10\n",
      "13\n",
      "19\n",
      "23\n",
      "28\n",
      "31\n",
      "32\n",
      "44\n",
      "49\n",
      "68\n",
      "70\n",
      "79\n",
      "82\n",
      "86\n",
      "91\n",
      "94\n",
      "97\n",
      "100\n"
     ]
    }
   ],
   "source": [
    "#4.\tWrite a Python program to print all happy numbers between 1 and 100?\n",
    "for num in range(1,101):\n",
    "    l=len(str(num))\n",
    "    n=num\n",
    "    sum=num\n",
    "    while l!=1:\n",
    "        n=sum\n",
    "        sum=0    \n",
    "        while n!=0:\n",
    "            r=n%10\n",
    "            n=n//10\n",
    "            sum=sum+(r**2)\n",
    "        l=len(str(sum))\n",
    "    if l==1:\n",
    "        if sum==1:\n",
    "            print(num)"
   ]
  },
  {
   "cell_type": "code",
   "execution_count": 38,
   "id": "30c7dadc",
   "metadata": {},
   "outputs": [
    {
     "name": "stdout",
     "output_type": "stream",
     "text": [
      "not a harshad no\n"
     ]
    }
   ],
   "source": [
    "#5.\tWrite a Python program to determine whether the given number is a Harshad Number?\n",
    "num=18\n",
    "n=num\n",
    "sum=0\n",
    "while n!=0:\n",
    "    r=n%10\n",
    "    n=n//10\n",
    "    sum=sum+r\n",
    "if num%sum==0:\n",
    "    print('harshad no')\n",
    "else:\n",
    "    print('not a harshad no')"
   ]
  },
  {
   "cell_type": "code",
   "execution_count": 40,
   "id": "c60d7f1f",
   "metadata": {},
   "outputs": [
    {
     "name": "stdout",
     "output_type": "stream",
     "text": [
      "6\n",
      "12\n",
      "20\n",
      "30\n",
      "42\n",
      "56\n",
      "72\n",
      "90\n"
     ]
    }
   ],
   "source": [
    "#6.\tWrite a Python program to print all pronic numbers between 1 and 100?\n",
    "for num in range(1,101):\n",
    "    for i in range(2,num):\n",
    "        if i*(i+1)==num:\n",
    "            print(num)\n",
    "            break\n",
    "    "
   ]
  }
 ],
 "metadata": {
  "kernelspec": {
   "display_name": "Python 3 (ipykernel)",
   "language": "python",
   "name": "python3"
  },
  "language_info": {
   "codemirror_mode": {
    "name": "ipython",
    "version": 3
   },
   "file_extension": ".py",
   "mimetype": "text/x-python",
   "name": "python",
   "nbconvert_exporter": "python",
   "pygments_lexer": "ipython3",
   "version": "3.9.12"
  }
 },
 "nbformat": 4,
 "nbformat_minor": 5
}
