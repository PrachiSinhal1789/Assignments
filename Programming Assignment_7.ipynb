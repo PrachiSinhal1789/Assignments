{
 "cells": [
  {
   "cell_type": "code",
   "execution_count": 1,
   "id": "d2e22338",
   "metadata": {},
   "outputs": [
    {
     "name": "stdout",
     "output_type": "stream",
     "text": [
      "141\n"
     ]
    }
   ],
   "source": [
    "#1.\tWrite a Python Program to find sum of array?\n",
    "arr=[1,3,56,7,74]\n",
    "s=sum(arr)\n",
    "print(s)"
   ]
  },
  {
   "cell_type": "code",
   "execution_count": 11,
   "id": "04176863",
   "metadata": {},
   "outputs": [
    {
     "name": "stdout",
     "output_type": "stream",
     "text": [
      "largest element 74\n"
     ]
    }
   ],
   "source": [
    "#2.\tWrite a Python Program to find largest element in an array?\n",
    "arr=[1,3,56,7,74]\n",
    "arr.sort(reverse=True)\n",
    "print('largest element',arr[0])"
   ]
  },
  {
   "cell_type": "code",
   "execution_count": 14,
   "id": "64a04690",
   "metadata": {},
   "outputs": [
    {
     "name": "stdout",
     "output_type": "stream",
     "text": [
      "[1, 3, 56, 7, 74, 3, 6, 8]\n",
      "[7, 74, 3, 6, 8, 1, 3, 56]\n"
     ]
    }
   ],
   "source": [
    "#3.\tWrite a Python Program for array rotation?\n",
    "#rotating by 3 position\n",
    "arr=[1,3,56,7,74,3,6,8]\n",
    "n=3\n",
    "new_arr=[]\n",
    "for j in range(n,len(arr)):\n",
    "    new_arr.append(arr[j])\n",
    "for j in range(n):\n",
    "    new_arr.append(arr[j])\n",
    "    \n",
    "print(arr)\n",
    "print(new_arr)"
   ]
  },
  {
   "cell_type": "code",
   "execution_count": 15,
   "id": "2639bf4a",
   "metadata": {},
   "outputs": [
    {
     "name": "stdout",
     "output_type": "stream",
     "text": [
      "[1, 3, 56, 7, 74, 3, 6, 8]\n",
      "[74, 3, 6, 8, 1, 3, 56, 7]\n"
     ]
    }
   ],
   "source": [
    "#4.\tWrite a Python Program to Split the array and add the first part to the end?\n",
    "arr=[1,3,56,7,74,3,6,8]\n",
    "n=len(arr)//2\n",
    "first=arr[:n]\n",
    "last=arr[n:]\n",
    "new_arr=last+first\n",
    "print(arr)\n",
    "print(new_arr)"
   ]
  },
  {
   "cell_type": "code",
   "execution_count": 20,
   "id": "4a98fc14",
   "metadata": {},
   "outputs": [
    {
     "name": "stdout",
     "output_type": "stream",
     "text": [
      "array is not monotonic\n"
     ]
    }
   ],
   "source": [
    "#5.\tWrite a Python Program to check if given array is Monotonic?\n",
    "arr=[1,3,566,7,33]\n",
    "inc=True\n",
    "dec=True\n",
    "for i in range(len(arr)-1):\n",
    "    if arr[i+1]>arr[i]:\n",
    "        dec=False\n",
    "        break\n",
    "for i in range(len(arr)-1):\n",
    "    if arr[i+1]<arr[i]:\n",
    "        inc=False\n",
    "        break\n",
    "if inc or dec:\n",
    "    print('array is monotonic')\n",
    "else:\n",
    "     print('array is not monotonic')"
   ]
  }
 ],
 "metadata": {
  "kernelspec": {
   "display_name": "Python 3 (ipykernel)",
   "language": "python",
   "name": "python3"
  },
  "language_info": {
   "codemirror_mode": {
    "name": "ipython",
    "version": 3
   },
   "file_extension": ".py",
   "mimetype": "text/x-python",
   "name": "python",
   "nbconvert_exporter": "python",
   "pygments_lexer": "ipython3",
   "version": "3.9.12"
  }
 },
 "nbformat": 4,
 "nbformat_minor": 5
}
