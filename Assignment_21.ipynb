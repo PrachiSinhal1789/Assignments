{
 "cells": [
  {
   "cell_type": "code",
   "execution_count": 9,
   "id": "a0e6cf7f",
   "metadata": {},
   "outputs": [],
   "source": [
    "#1. Add the current date to the text file today.txt as a string.\n",
    "f=open('today.txt','w+')\n",
    "from datetime import date\n",
    "d=date.today()\n",
    "f.write(str(d))\n",
    "f.close()"
   ]
  },
  {
   "cell_type": "code",
   "execution_count": 20,
   "id": "c760c467",
   "metadata": {},
   "outputs": [
    {
     "name": "stdout",
     "output_type": "stream",
     "text": [
      "2022-12-19\n"
     ]
    }
   ],
   "source": [
    "#2. Read the text file today.txt into the string today_string\n",
    "with open('today.txt','r') as f:\n",
    "    print(f.read())"
   ]
  },
  {
   "cell_type": "code",
   "execution_count": 24,
   "id": "f7cc8ac3",
   "metadata": {},
   "outputs": [
    {
     "name": "stdout",
     "output_type": "stream",
     "text": [
      "2022-12-19\n"
     ]
    }
   ],
   "source": [
    "#3. Parse the date from today_string.\n",
    "with open('today.txt','r') as f:\n",
    "    print(str(f.read()))"
   ]
  },
  {
   "cell_type": "code",
   "execution_count": 26,
   "id": "d21fc923",
   "metadata": {},
   "outputs": [
    {
     "name": "stdout",
     "output_type": "stream",
     "text": [
      " Volume in drive C is OS\n",
      " Volume Serial Number is 0447-A753\n",
      "\n",
      " Directory of C:\\Users\\Dell\\Data Science_ineuron\\Working with Pandas and Numpy\n",
      "\n",
      "19-12-2022  14:39    <DIR>          .\n",
      "09-12-2022  20:51    <DIR>          ..\n",
      "19-12-2022  14:02    <DIR>          .ipynb_checkpoints\n",
      "19-12-2022  14:39             2,492 Assignment_21.ipynb\n",
      "09-12-2022  22:53            78,961 NBA.csv\n",
      "14-12-2022  00:26            31,967 numpy day 2.ipynb\n",
      "15-12-2022  00:25            78,551 pandas and numpy.ipynb\n",
      "12-12-2022  00:07           166,186 pandas class 3.ipynb\n",
      "10-12-2022  10:38           577,141 Pandas day 2.ipynb\n",
      "09-12-2022  21:28           289,224 Pandas day1.ipynb\n",
      "18-12-2022  21:22            66,092 practice_join merge.ipynb\n",
      "13-12-2022  20:31    <DIR>          resume parsing\n",
      "09-12-2022  21:48            14,327 taxonomy.csv\n",
      "19-12-2022  14:06                10 today.txt\n",
      "              10 File(s)      1,304,951 bytes\n",
      "               4 Dir(s)  55,432,708,096 bytes free\n"
     ]
    }
   ],
   "source": [
    "#4. List the files in your current directory\n",
    "%ls"
   ]
  },
  {
   "cell_type": "code",
   "execution_count": 29,
   "id": "87dd858f",
   "metadata": {},
   "outputs": [
    {
     "name": "stdout",
     "output_type": "stream",
     "text": [
      "['.ipynb_checkpoints', 'Assignments', 'Python Advance', 'Python Basics', 'Working with graphs and charts', 'Working with Pandas and Numpy']\n"
     ]
    }
   ],
   "source": [
    "#5. Create a list of all of the files in your parent directory (minimum five files should be available).\n",
    "\n",
    "import os\n",
    "path='C://Users//Dell//Data Science_ineuron'\n",
    "l=os.listdir(path)\n",
    "print(l)"
   ]
  },
  {
   "cell_type": "code",
   "execution_count": null,
   "id": "ee310657",
   "metadata": {},
   "outputs": [],
   "source": [
    "#6. Use multiprocessing to create three separate processes. Make each one wait a random number of seconds between one and five, print the current time, and then exit."
   ]
  },
  {
   "cell_type": "code",
   "execution_count": 48,
   "id": "939239f1",
   "metadata": {},
   "outputs": [],
   "source": [
    "import multiprocessing\n",
    "from datetime import datetime\n",
    "\n",
    "def process1():\n",
    "    t = random.randint(1,5)\n",
    "    time.sleep(t)\n",
    "    print(datetime.now().time())   \n",
    "    \n",
    "p1 = multiprocessing.Process(target=process1)\n",
    "p2 = multiprocessing.Process(target=process1)\n",
    "p3 = multiprocessing.Process(target=process1)\n",
    "\n",
    "p1.start()\n",
    "p2.start()\n",
    "p3.start()\n",
    "\n",
    "p1.join()\n",
    "p2.join()\n",
    "p3.join()"
   ]
  },
  {
   "cell_type": "code",
   "execution_count": 52,
   "id": "495cf97e",
   "metadata": {},
   "outputs": [
    {
     "name": "stdout",
     "output_type": "stream",
     "text": [
      "1992-09-14 00:00:00\n"
     ]
    }
   ],
   "source": [
    "#7. Create a date object of your day of birth.\n",
    "\n",
    "import datetime\n",
    "obj=datetime.datetime(1992,9,14)\n",
    "print(obj)"
   ]
  },
  {
   "cell_type": "code",
   "execution_count": 55,
   "id": "b80a4913",
   "metadata": {},
   "outputs": [
    {
     "data": {
      "text/plain": [
       "'Monday'"
      ]
     },
     "execution_count": 55,
     "metadata": {},
     "output_type": "execute_result"
    }
   ],
   "source": [
    "#8. What day of the week was your day of birth?\n",
    "from datetime import datetime\n",
    "import calendar\n",
    "\n",
    "date='14 09 1992'\n",
    "date=datetime.strptime(date,'%d %m %Y').weekday()  #this weekday returns integer value corres. to day\n",
    "calendar.day_name[date]"
   ]
  },
  {
   "cell_type": "code",
   "execution_count": 57,
   "id": "1638f2fe",
   "metadata": {},
   "outputs": [
    {
     "name": "stdout",
     "output_type": "stream",
     "text": [
      "2020-01-31\n"
     ]
    }
   ],
   "source": [
    "#9. When will you be (or when were you) 10,000 days old?\n",
    "import datetime\n",
    "\n",
    "start_date = datetime.datetime(year=1992, month=9, day=14)\n",
    "\n",
    "end_date = start_date + datetime.timedelta(days=10000)\n",
    "\n",
    "print(end_date.date())"
   ]
  }
 ],
 "metadata": {
  "kernelspec": {
   "display_name": "Python 3 (ipykernel)",
   "language": "python",
   "name": "python3"
  },
  "language_info": {
   "codemirror_mode": {
    "name": "ipython",
    "version": 3
   },
   "file_extension": ".py",
   "mimetype": "text/x-python",
   "name": "python",
   "nbconvert_exporter": "python",
   "pygments_lexer": "ipython3",
   "version": "3.9.12"
  }
 },
 "nbformat": 4,
 "nbformat_minor": 5
}
