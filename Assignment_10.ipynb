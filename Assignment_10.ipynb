{
 "cells": [
  {
   "cell_type": "markdown",
   "id": "3b4d0fec",
   "metadata": {},
   "source": [
    "1. How do you distinguish between shutil.copy() and shutil.copytree()?\n",
    "2. What function is used to rename files??\n",
    "3. What is the difference between the delete functions in the send2trash and shutil modules?\n",
    "4.ZipFile objects have a close() method just like File objects’ close() method. What ZipFile method is equivalent to File objects’ open() method?\n",
    "5. Create a programme that searches a folder tree for files with a certain file extension (such as .pdf or .jpg). Copy these files from whatever location they are in to a new folder.\n"
   ]
  },
  {
   "cell_type": "markdown",
   "id": "6ba2dde2",
   "metadata": {},
   "source": [
    "#1. How do you distinguish between shutil.copy() and shutil.copytree()?\n",
    "Ans. shutil.copy : Copies a single file\n",
    "shutil.copytree() : will copy an entire folder and every folder and file contained in it"
   ]
  },
  {
   "cell_type": "code",
   "execution_count": null,
   "id": "c7a8208c",
   "metadata": {},
   "outputs": [],
   "source": [
    "#2. What function is used to rename files?\n",
    "\n",
    "import os\n",
    "os.rename(\"text.txt\",\"testnew.txt\")"
   ]
  },
  {
   "cell_type": "code",
   "execution_count": null,
   "id": "8e595aa5",
   "metadata": {},
   "outputs": [],
   "source": [
    "#3. What is the difference between the delete functions in the send2trash and shutil modules?\n",
    "\n",
    "Ans. import shutil\n",
    "shutil.retree(): The shutil module’s rmtree() function can be used to delete files or folders. But this function deletes the files permanently. \n",
    "The operations cannot be undone if there were any accidental deletions performed.\n",
    "\n",
    "import send2trash\n",
    "\n",
    "send2trash.send2trash() : Using send2trash, we can send files to the Trash or Recycle Bin instead of deleting permanently.\n",
    "\n",
    "If the directory contains files or other folders, those are also deleted.\n",
    "A TrashPermissionError exception is raised, in case a file could not be deleted due to permission error \n",
    "or any other unexpected reason.\n",
    "\n",
    "\n",
    "import shutil\n",
    "import send2trash\n",
    "shutil.rmtree(\"path\")\n",
    "send2trash.send2trash(\"path\")"
   ]
  },
  {
   "cell_type": "markdown",
   "id": "543d3215",
   "metadata": {},
   "source": [
    "4.ZipFile objects have a close() method just like File objects’ close() method. \n",
    "What ZipFile method is equivalent to File objects’ open() method?\n",
    "\n",
    "with ZipFile(file_name, 'r') as zip: -> this code will open specified zipfile for us.\n",
    "\n",
    "\n",
    "from zipfile import Zipfile\n",
    "with ZipFile(file_name, 'r') as zip\n",
    "     "
   ]
  },
  {
   "cell_type": "markdown",
   "id": "9502f3fa",
   "metadata": {},
   "source": [
    "5. Create a programme that searches a folder tree for files with a certain file extension (such as .pdf or .jpg). \n",
    "Copy these files from whatever location they are in to a new folder."
   ]
  },
  {
   "cell_type": "code",
   "execution_count": null,
   "id": "f0537390",
   "metadata": {},
   "outputs": [],
   "source": [
    "import os, shutil\n",
    "\n",
    "def selectiveCopy(source, extensions, destination):\n",
    "    folder = os.path.abspath(source)\n",
    "    destination = os.path.abspath(destination)\n",
    "    print('Looking in', source, 'for files with extensions of', ', '.join(extensions))\n",
    "    for foldername, subfolders, filenames in os.walk(source):\n",
    "        for filename in filenames:\n",
    "            name, extension = os.path.splitext(filename)\n",
    "            if extension in extensions:\n",
    "                fileAbsPath = foldername + os.path.sep + filename\n",
    "                print('Coping', fileAbsPath, 'to', destination)\n",
    "                shutil.copy(fileAbsPath, destination)\n",
    "\n",
    "extensions = ['.mp4', '.pdf','.jpg']\n",
    "source = \"C:\\Users\\Shiva000\\Desktop\"\n",
    "destination = \"C:\\Users\\Shiva000\\Desktop\\abc\"\n",
    "selectiveCopy(source, extensions, destination)"
   ]
  }
 ],
 "metadata": {
  "kernelspec": {
   "display_name": "Python 3 (ipykernel)",
   "language": "python",
   "name": "python3"
  },
  "language_info": {
   "codemirror_mode": {
    "name": "ipython",
    "version": 3
   },
   "file_extension": ".py",
   "mimetype": "text/x-python",
   "name": "python",
   "nbconvert_exporter": "python",
   "pygments_lexer": "ipython3",
   "version": "3.9.12"
  }
 },
 "nbformat": 4,
 "nbformat_minor": 5
}
