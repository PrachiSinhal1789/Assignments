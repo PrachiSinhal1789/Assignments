{
 "cells": [
  {
   "cell_type": "code",
   "execution_count": 4,
   "id": "1bb23976",
   "metadata": {},
   "outputs": [
    {
     "name": "stdout",
     "output_type": "stream",
     "text": [
      "['data', 'science', 'mining']\n"
     ]
    }
   ],
   "source": [
    "#1.\tWrite a Python program to Extract Unique values dictionary values?\n",
    "d={'a':'data','b':'science','c':'data','d':'mining'}\n",
    "v=d.values()\n",
    "l=[]\n",
    "for i in v:\n",
    "    if i not in l:\n",
    "        l.append(i)\n",
    "print(l)"
   ]
  },
  {
   "cell_type": "code",
   "execution_count": 5,
   "id": "b3dec2e8",
   "metadata": {},
   "outputs": [
    {
     "name": "stdout",
     "output_type": "stream",
     "text": [
      "200\n"
     ]
    }
   ],
   "source": [
    "#2.\tWrite a Python program to find the sum of all items in a dictionary?\n",
    "d={'a':100,'b':40,'c':30,'d':30}\n",
    "v=d.values()\n",
    "print(sum(v))"
   ]
  },
  {
   "cell_type": "code",
   "execution_count": 19,
   "id": "839209ad",
   "metadata": {},
   "outputs": [
    {
     "data": {
      "text/plain": [
       "{'a': 'data',\n",
       " 'b': 'science',\n",
       " 'c': 'data',\n",
       " 'd': 'mining',\n",
       " 'a1': 100,\n",
       " 'b1': 40,\n",
       " 'c1': 30,\n",
       " 'd1': 30}"
      ]
     },
     "execution_count": 19,
     "metadata": {},
     "output_type": "execute_result"
    }
   ],
   "source": [
    "#3.\tWrite a Python program to Merging two Dictionaries?\n",
    "d1={'a':'data','b':'science','c':'data','d':'mining'}\n",
    "d2={'a1':100,'b1':40,'c1':30,'d1':30}\n",
    "d1.update(d2)\n",
    "d1"
   ]
  },
  {
   "cell_type": "code",
   "execution_count": 23,
   "id": "6830a32a",
   "metadata": {},
   "outputs": [
    {
     "data": {
      "text/plain": [
       "{'data': 100, 'science': 40, 'mining': 30}"
      ]
     },
     "execution_count": 23,
     "metadata": {},
     "output_type": "execute_result"
    }
   ],
   "source": [
    "#4.\tWrite a Python program to convert key-values list to flat dictionary?\n",
    "d1={'a':'data','b':'science','c':'mining'}\n",
    "d2={'a1':100,'b1':40,'c1':30}\n",
    "k=list(d1.values())\n",
    "v=list(d2.values())\n",
    "d={}\n",
    "for i in range(len(k)):\n",
    "    d[k[i]]=v[i]\n",
    "d"
   ]
  },
  {
   "cell_type": "code",
   "execution_count": 38,
   "id": "2420780f",
   "metadata": {},
   "outputs": [
    {
     "name": "stdout",
     "output_type": "stream",
     "text": [
      "Original: OrderedDict([(1, 'data'), (3, 'science'), (2, 'mining')])\n",
      "After insertion OrderedDict([(4, 'machine'), (1, 'data'), (3, 'science'), (2, 'mining')])\n"
     ]
    }
   ],
   "source": [
    "#5.\tWrite a Python program to insertion at the beginning in OrderedDict?\n",
    "from collections import OrderedDict\n",
    "d=OrderedDict([(1,'data'), (3,'science'), (2,'mining')])\n",
    "print('Original:',d)\n",
    "d.update({4:'machine'})\n",
    "d.move_to_end(4,last=False)\n",
    "print('After insertion',d)"
   ]
  },
  {
   "cell_type": "code",
   "execution_count": 42,
   "id": "1d545b8e",
   "metadata": {},
   "outputs": [
    {
     "name": "stdout",
     "output_type": "stream",
     "text": [
      "no\n"
     ]
    }
   ],
   "source": [
    "#6.\tWrite a Python program to check order of character in string using OrderedDict()?\n",
    "s='hello world'\n",
    "p='hwl'\n",
    "for i in range(len(p)-1):\n",
    "    x=p[i]\n",
    "    y=p[i+1]\n",
    "    right=s.index(x)\n",
    "    left=s.index(y)\n",
    "    if right==-1 or right>left:\n",
    "        print('no')\n",
    "        break\n"
   ]
  },
  {
   "cell_type": "code",
   "execution_count": 50,
   "id": "95b2484f",
   "metadata": {},
   "outputs": [
    {
     "name": "stdout",
     "output_type": "stream",
     "text": [
      "{'a': 'data', 'b': 'science', 'c': 'mining'}\n",
      "{'a': 'data', 'c': 'mining', 'b': 'science'}\n"
     ]
    }
   ],
   "source": [
    "#7.\tWrite a Python program to sort Python Dictionaries by Key or Value?\n",
    "#sorting by value\n",
    "d={'a':'data','b':'science','c':'mining'}\n",
    "k=list(d.keys())\n",
    "v=list(d.values())\n",
    "new={}\n",
    "sorted_v=list(sorted(d.values()))\n",
    "for i in sorted_v:\n",
    "    key=v.index(i)\n",
    "    new[k[key]]=i\n",
    "print(d)\n",
    "print(new)"
   ]
  }
 ],
 "metadata": {
  "kernelspec": {
   "display_name": "Python 3 (ipykernel)",
   "language": "python",
   "name": "python3"
  },
  "language_info": {
   "codemirror_mode": {
    "name": "ipython",
    "version": 3
   },
   "file_extension": ".py",
   "mimetype": "text/x-python",
   "name": "python",
   "nbconvert_exporter": "python",
   "pygments_lexer": "ipython3",
   "version": "3.9.12"
  }
 },
 "nbformat": 4,
 "nbformat_minor": 5
}
